{
 "cells": [
  {
   "cell_type": "markdown",
   "metadata": {},
   "source": [
    "# XML example and exercise\n",
    "****\n",
    "+ study examples of accessing nodes in XML tree structure  \n",
    "+ work on exercise to be completed and submitted\n",
    "****\n",
    "+ reference: https://docs.python.org/2.7/library/xml.etree.elementtree.html\n",
    "+ data source: http://www.dbis.informatik.uni-goettingen.de/Mondial\n",
    "****"
   ]
  },
  {
   "cell_type": "code",
   "execution_count": 2,
   "metadata": {
    "collapsed": true
   },
   "outputs": [],
   "source": [
    "from xml.etree import ElementTree as ET"
   ]
  },
  {
   "cell_type": "markdown",
   "metadata": {},
   "source": [
    "## XML example\n",
    "\n",
    "+ for details about tree traversal and iterators, see https://docs.python.org/2.7/library/xml.etree.elementtree.html"
   ]
  },
  {
   "cell_type": "code",
   "execution_count": 3,
   "metadata": {
    "collapsed": false
   },
   "outputs": [],
   "source": [
    "document_tree = ET.parse( './data/mondial_database_less.xml' )"
   ]
  },
  {
   "cell_type": "code",
   "execution_count": 12,
   "metadata": {
    "collapsed": false
   },
   "outputs": [
    {
     "name": "stdout",
     "output_type": "stream",
     "text": [
      "Albania\n",
      "Greece\n",
      "Macedonia\n",
      "Serbia\n",
      "Montenegro\n",
      "Kosovo\n",
      "Andorra\n"
     ]
    }
   ],
   "source": [
    "# print names of all countries\n",
    "for child in document_tree.getroot():\n",
    "    print(child.find('name').text)"
   ]
  },
  {
   "cell_type": "code",
   "execution_count": 13,
   "metadata": {
    "collapsed": false
   },
   "outputs": [
    {
     "ename": "SyntaxError",
     "evalue": "invalid syntax (<ipython-input-13-6645883cfe43>, line 3)",
     "output_type": "error",
     "traceback": [
      "\u001b[0;36m  File \u001b[0;32m\"<ipython-input-13-6645883cfe43>\"\u001b[0;36m, line \u001b[0;32m3\u001b[0m\n\u001b[0;31m    print '* ' + element.find('name').text + ':',\u001b[0m\n\u001b[0m             ^\u001b[0m\n\u001b[0;31mSyntaxError\u001b[0m\u001b[0;31m:\u001b[0m invalid syntax\n"
     ]
    }
   ],
   "source": [
    "# print names of all countries and their cities\n",
    "for element in document_tree.iterfind('country'):\n",
    "    print '* ' + element.find('name').text + ':',\n",
    "    capitals_string = ''\n",
    "    for subelement in element.getiterator('city'):\n",
    "        capitals_string += subelement.find('name').text + ', '\n",
    "    print capitals_string[:-2]"
   ]
  },
  {
   "cell_type": "markdown",
   "metadata": {},
   "source": [
    "****\n",
    "## XML exercise\n",
    "\n",
    "Using data in 'data/mondial_database.xml', the examples above, and refering to https://docs.python.org/2.7/library/xml.etree.elementtree.html, find\n",
    "\n",
    "1. 10 countries with the lowest infant mortality rates\n",
    "2. 10 cities with the largest population\n",
    "3. 10 ethnic groups with the largest overall populations (sum of best/latest estimates over all countries)\n",
    "4. name and country of a) longest river, b) largest lake and c) airport at highest elevation"
   ]
  },
  {
   "cell_type": "code",
   "execution_count": 69,
   "metadata": {
    "collapsed": false
   },
   "outputs": [
    {
     "name": "stderr",
     "output_type": "stream",
     "text": [
      "/Users/raenug001c/Desktop/Anaconda/anaconda/lib/python3.5/site-packages/ipykernel/__main__.py:9: FutureWarning: sort(columns=....) is deprecated, use sort_values(by=.....)\n"
     ]
    },
    {
     "data": {
      "text/html": [
       "<div>\n",
       "<table border=\"1\" class=\"dataframe\">\n",
       "  <thead>\n",
       "    <tr style=\"text-align: right;\">\n",
       "      <th></th>\n",
       "      <th>Country</th>\n",
       "      <th>InfantMortality</th>\n",
       "    </tr>\n",
       "  </thead>\n",
       "  <tbody>\n",
       "    <tr>\n",
       "      <th>191</th>\n",
       "      <td>Monaco</td>\n",
       "      <td>1.81</td>\n",
       "    </tr>\n",
       "    <tr>\n",
       "      <th>199</th>\n",
       "      <td>Romania</td>\n",
       "      <td>10.16</td>\n",
       "    </tr>\n",
       "    <tr>\n",
       "      <th>85</th>\n",
       "      <td>Fiji</td>\n",
       "      <td>10.2</td>\n",
       "    </tr>\n",
       "    <tr>\n",
       "      <th>164</th>\n",
       "      <td>Brunei</td>\n",
       "      <td>10.48</td>\n",
       "    </tr>\n",
       "    <tr>\n",
       "      <th>103</th>\n",
       "      <td>Grenada</td>\n",
       "      <td>10.5</td>\n",
       "    </tr>\n",
       "    <tr>\n",
       "      <th>6</th>\n",
       "      <td>Mauritius</td>\n",
       "      <td>10.59</td>\n",
       "    </tr>\n",
       "    <tr>\n",
       "      <th>111</th>\n",
       "      <td>Panama</td>\n",
       "      <td>10.7</td>\n",
       "    </tr>\n",
       "    <tr>\n",
       "      <th>0</th>\n",
       "      <td>Seychelles</td>\n",
       "      <td>10.77</td>\n",
       "    </tr>\n",
       "    <tr>\n",
       "      <th>133</th>\n",
       "      <td>United Arab Emirates</td>\n",
       "      <td>10.92</td>\n",
       "    </tr>\n",
       "    <tr>\n",
       "      <th>122</th>\n",
       "      <td>Barbados</td>\n",
       "      <td>10.93</td>\n",
       "    </tr>\n",
       "  </tbody>\n",
       "</table>\n",
       "</div>"
      ],
      "text/plain": [
       "                  Country InfantMortality\n",
       "191                Monaco            1.81\n",
       "199               Romania           10.16\n",
       "85                   Fiji            10.2\n",
       "164                Brunei           10.48\n",
       "103               Grenada            10.5\n",
       "6               Mauritius           10.59\n",
       "111                Panama            10.7\n",
       "0              Seychelles           10.77\n",
       "133  United Arab Emirates           10.92\n",
       "122              Barbados           10.93"
      ]
     },
     "execution_count": 69,
     "metadata": {},
     "output_type": "execute_result"
    }
   ],
   "source": [
    "#1) 10 countries with the lowest infant mortality rates\n",
    "import pandas as pd\n",
    "document = ET.parse( 'mondial_database.xml' )\n",
    "df = pd.DataFrame(columns=['Country','InfantMortality'])\n",
    "for element in document.iterfind('country'):\n",
    "    for subelement in element.getiterator('infant_mortality'):\n",
    "        df.loc[-1] = [element.find('name').text, subelement.text]  # adding a row\n",
    "        df.index = df.index + 1  # shifting index\n",
    "df = df.sort('InfantMortality')\n",
    "df.head(10)"
   ]
  },
  {
   "cell_type": "code",
   "execution_count": 70,
   "metadata": {
    "collapsed": false
   },
   "outputs": [
    {
     "name": "stderr",
     "output_type": "stream",
     "text": [
      "/Users/raenug001c/Desktop/Anaconda/anaconda/lib/python3.5/site-packages/ipykernel/__main__.py:17: FutureWarning: sort(columns=....) is deprecated, use sort_values(by=.....)\n"
     ]
    },
    {
     "data": {
      "text/html": [
       "<div>\n",
       "<table border=\"1\" class=\"dataframe\">\n",
       "  <thead>\n",
       "    <tr style=\"text-align: right;\">\n",
       "      <th></th>\n",
       "      <th>City</th>\n",
       "      <th>Country</th>\n",
       "      <th>Population</th>\n",
       "    </tr>\n",
       "  </thead>\n",
       "  <tbody>\n",
       "    <tr>\n",
       "      <th>1585</th>\n",
       "      <td>Shanghai</td>\n",
       "      <td>CN</td>\n",
       "      <td>22315474</td>\n",
       "    </tr>\n",
       "    <tr>\n",
       "      <th>1457</th>\n",
       "      <td>Mumbai</td>\n",
       "      <td>IND</td>\n",
       "      <td>12442373</td>\n",
       "    </tr>\n",
       "    <tr>\n",
       "      <th>1586</th>\n",
       "      <td>Beijing</td>\n",
       "      <td>CN</td>\n",
       "      <td>11716620</td>\n",
       "    </tr>\n",
       "    <tr>\n",
       "      <th>1997</th>\n",
       "      <td>Moskva</td>\n",
       "      <td>R</td>\n",
       "      <td>11612885</td>\n",
       "    </tr>\n",
       "    <tr>\n",
       "      <th>393</th>\n",
       "      <td>São Paulo</td>\n",
       "      <td>BR</td>\n",
       "      <td>11152344</td>\n",
       "    </tr>\n",
       "    <tr>\n",
       "      <th>1584</th>\n",
       "      <td>Tianjin</td>\n",
       "      <td>CN</td>\n",
       "      <td>11090314</td>\n",
       "    </tr>\n",
       "    <tr>\n",
       "      <th>1629</th>\n",
       "      <td>Guangzhou</td>\n",
       "      <td>CN</td>\n",
       "      <td>11071424</td>\n",
       "    </tr>\n",
       "    <tr>\n",
       "      <th>1432</th>\n",
       "      <td>Delhi</td>\n",
       "      <td>IND</td>\n",
       "      <td>11034555</td>\n",
       "    </tr>\n",
       "    <tr>\n",
       "      <th>1627</th>\n",
       "      <td>Shenzhen</td>\n",
       "      <td>CN</td>\n",
       "      <td>10358381</td>\n",
       "    </tr>\n",
       "    <tr>\n",
       "      <th>1617</th>\n",
       "      <td>Wuhan</td>\n",
       "      <td>CN</td>\n",
       "      <td>9785388</td>\n",
       "    </tr>\n",
       "  </tbody>\n",
       "</table>\n",
       "</div>"
      ],
      "text/plain": [
       "           City Country  Population\n",
       "1585   Shanghai      CN    22315474\n",
       "1457     Mumbai     IND    12442373\n",
       "1586    Beijing      CN    11716620\n",
       "1997     Moskva       R    11612885\n",
       "393   São Paulo      BR    11152344\n",
       "1584    Tianjin      CN    11090314\n",
       "1629  Guangzhou      CN    11071424\n",
       "1432      Delhi     IND    11034555\n",
       "1627   Shenzhen      CN    10358381\n",
       "1617      Wuhan      CN     9785388"
      ]
     },
     "execution_count": 70,
     "metadata": {},
     "output_type": "execute_result"
    }
   ],
   "source": [
    "#2)10 cities with the largest population\n",
    "import numpy as np\n",
    "df = pd.DataFrame(columns=['City','Country','Population'])\n",
    "for cityCountry in document.getiterator('city'):\n",
    "    dict = {}\n",
    "    countryName = cityCountry.get('country')\n",
    "    populationCheck = cityCountry.find('population')\n",
    "    if populationCheck is not None:\n",
    "        for popul in cityCountry.getiterator('population'):\n",
    "            measuredOrCensus = popul.get('measured')\n",
    "            if measuredOrCensus == \"census\":\n",
    "                dict[popul.get('year')] = popul.text\n",
    "    if len(dict) != 0:\n",
    "        df.loc[-1] = [cityCountry.find('name').text, countryName, dict[max(dict)]]  # adding a row\n",
    "        df.index = df.index + 1  # shifting index  \n",
    "df['Population'] = df['Population'].astype(str).astype(int)\n",
    "df = df.sort('Population', ascending=False)\n",
    "df.head(10)"
   ]
  },
  {
   "cell_type": "code",
   "execution_count": 71,
   "metadata": {
    "collapsed": false
   },
   "outputs": [
    {
     "name": "stderr",
     "output_type": "stream",
     "text": [
      "/Users/raenug001c/Desktop/Anaconda/anaconda/lib/python3.5/site-packages/ipykernel/__main__.py:33: FutureWarning: sort(columns=....) is deprecated, use sort_values(by=.....)\n"
     ]
    },
    {
     "data": {
      "text/html": [
       "<div>\n",
       "<table border=\"1\" class=\"dataframe\">\n",
       "  <thead>\n",
       "    <tr style=\"text-align: right;\">\n",
       "      <th></th>\n",
       "      <th>Ethnic Group</th>\n",
       "      <th>Population</th>\n",
       "    </tr>\n",
       "  </thead>\n",
       "  <tbody>\n",
       "    <tr>\n",
       "      <th>221</th>\n",
       "      <td>Malay</td>\n",
       "      <td>8.924434e+07</td>\n",
       "    </tr>\n",
       "    <tr>\n",
       "      <th>260</th>\n",
       "      <td>Thai</td>\n",
       "      <td>4.949004e+07</td>\n",
       "    </tr>\n",
       "    <tr>\n",
       "      <th>173</th>\n",
       "      <td>Polish</td>\n",
       "      <td>3.767896e+07</td>\n",
       "    </tr>\n",
       "    <tr>\n",
       "      <th>225</th>\n",
       "      <td>Burman</td>\n",
       "      <td>3.496521e+07</td>\n",
       "    </tr>\n",
       "    <tr>\n",
       "      <th>13</th>\n",
       "      <td>African</td>\n",
       "      <td>3.010614e+07</td>\n",
       "    </tr>\n",
       "    <tr>\n",
       "      <th>182</th>\n",
       "      <td>Arab</td>\n",
       "      <td>2.881475e+07</td>\n",
       "    </tr>\n",
       "    <tr>\n",
       "      <th>262</th>\n",
       "      <td>Chinese</td>\n",
       "      <td>2.669394e+07</td>\n",
       "    </tr>\n",
       "    <tr>\n",
       "      <th>229</th>\n",
       "      <td>Taiwanese</td>\n",
       "      <td>1.873278e+07</td>\n",
       "    </tr>\n",
       "    <tr>\n",
       "      <th>25</th>\n",
       "      <td>Sinhalese</td>\n",
       "      <td>1.499516e+07</td>\n",
       "    </tr>\n",
       "    <tr>\n",
       "      <th>97</th>\n",
       "      <td>Arab-Berber</td>\n",
       "      <td>1.402479e+07</td>\n",
       "    </tr>\n",
       "  </tbody>\n",
       "</table>\n",
       "</div>"
      ],
      "text/plain": [
       "    Ethnic Group    Population\n",
       "221        Malay  8.924434e+07\n",
       "260         Thai  4.949004e+07\n",
       "173       Polish  3.767896e+07\n",
       "225       Burman  3.496521e+07\n",
       "13       African  3.010614e+07\n",
       "182         Arab  2.881475e+07\n",
       "262      Chinese  2.669394e+07\n",
       "229    Taiwanese  1.873278e+07\n",
       "25     Sinhalese  1.499516e+07\n",
       "97   Arab-Berber  1.402479e+07"
      ]
     },
     "execution_count": 71,
     "metadata": {},
     "output_type": "execute_result"
    }
   ],
   "source": [
    "# 3) 10 ethnic groups with the largest overall populations (sum of best/latest estimates over all countries)\n",
    "import numpy as np\n",
    "df = pd.DataFrame(columns=['Ethnic Group','Population'])\n",
    "dictEthnic = {}\n",
    "for country in document.getiterator('country'):\n",
    "    dictPopulation = {}\n",
    "    populationCheck = country.find('population')\n",
    "    if populationCheck is not None:\n",
    "        for popul in country.getiterator('population'):\n",
    "            measuredOrCensus = popul.get('measured')\n",
    "            if measuredOrCensus == \"census\":\n",
    "                dictPopulation[popul.get('year')] = popul.text\n",
    "    if len(dictPopulation) != 0:\n",
    "        ethnicCheck = country.find('ethnicgroup')\n",
    "        if ethnicCheck is not None:\n",
    "             for ethnic in country.getiterator('ethnicgroup'):\n",
    "                    if ethnic.text in dictEthnic:\n",
    "                        existingValue = dictEthnic[ethnic.text]\n",
    "                        existingValue = float(existingValue)\n",
    "                        percentage = ethnic.get('percentage')\n",
    "                        percentage = float(percentage)\n",
    "                        NewValue = existingValue + (float(dictPopulation[max(dictPopulation)]) *(percentage/100))\n",
    "                        dict = {ethnic.text:NewValue}\n",
    "                        dictEthnic.update(dict)\n",
    "                    else:\n",
    "                        percentage = ethnic.get('percentage')#.astype(str).astype(int)\n",
    "                        percentage = float(percentage)\n",
    "                        NewValue = (float(dictPopulation[max(dictPopulation)]) *(percentage/100))\n",
    "                        dictEthnic[ethnic.text] = NewValue\n",
    "for k,v in dictEthnic.items():\n",
    "    df.loc[-1] = [k, v]  # adding a row\n",
    "    df.index = df.index + 1  # shifting index  \n",
    "df = df.sort('Population', ascending=False)\n",
    "df.head(10)"
   ]
  },
  {
   "cell_type": "code",
   "execution_count": 72,
   "metadata": {
    "collapsed": false
   },
   "outputs": [
    {
     "data": {
      "text/plain": [
       "River Name    Selenge\n",
       "Country         R MNG\n",
       "Length            992\n",
       "Name: 111, dtype: object"
      ]
     },
     "execution_count": 72,
     "metadata": {},
     "output_type": "execute_result"
    }
   ],
   "source": [
    "#4 a) name and country of a) longest river\n",
    "df = pd.DataFrame(columns=['River Name','Country','Length'])\n",
    "for river in document.getiterator('river'):\n",
    "    countryName = river.get('country')\n",
    "    length = river.find('length')\n",
    "    if length is not None:\n",
    "        lengthNumber = river.find('length').text\n",
    "        riverName = river.find('name').text\n",
    "        df.loc[-1] = [riverName,countryName, lengthNumber]\n",
    "        df.index = df.index + 1\n",
    "df.loc[df['Length'].idxmax()]"
   ]
  },
  {
   "cell_type": "code",
   "execution_count": 73,
   "metadata": {
    "collapsed": false
   },
   "outputs": [
    {
     "data": {
      "text/plain": [
       "Lake Name    Fort Peck Lake\n",
       "Country                 USA\n",
       "Area                    981\n",
       "Name: 18, dtype: object"
      ]
     },
     "execution_count": 73,
     "metadata": {},
     "output_type": "execute_result"
    }
   ],
   "source": [
    "#$ b) largest lake\n",
    "df = pd.DataFrame(columns=['Lake Name','Country','Area'])\n",
    "for lake in document.getiterator('lake'):\n",
    "    countryName = lake.get('country')\n",
    "    area = lake.find('area')\n",
    "    if area is not None:\n",
    "        areaNumber = lake.find('area').text\n",
    "        lakeName = lake.find('name').text\n",
    "        df.loc[-1] = [lakeName,countryName, areaNumber]\n",
    "        df.index = df.index + 1\n",
    "        \n",
    "df.loc[df['Area'].idxmax()]"
   ]
  },
  {
   "cell_type": "code",
   "execution_count": 74,
   "metadata": {
    "collapsed": false
   },
   "outputs": [
    {
     "data": {
      "text/plain": [
       "Airport Name    Mashhad\n",
       "Country              IR\n",
       "Elevation           995\n",
       "Name: 778, dtype: object"
      ]
     },
     "execution_count": 74,
     "metadata": {},
     "output_type": "execute_result"
    }
   ],
   "source": [
    "#4 c) airport at highest elevation\n",
    "df = pd.DataFrame(columns=['Airport Name','Country','Elevation'])\n",
    "for airport in document.getiterator('airport'):\n",
    "    countryName = airport.get('country')\n",
    "    elevation = airport.find('elevation')\n",
    "    if elevation is not None:\n",
    "        elevationNumber = airport.find('elevation').text\n",
    "        airportName = airport.find('name').text\n",
    "        df.loc[-1] = [airportName,countryName, elevationNumber]\n",
    "        df.index = df.index + 1\n",
    "\n",
    "df = df.dropna(axis=0, how='any')\n",
    "df.loc[df['Elevation'].idxmax()]"
   ]
  },
  {
   "cell_type": "code",
   "execution_count": null,
   "metadata": {
    "collapsed": true
   },
   "outputs": [],
   "source": []
  }
 ],
 "metadata": {
  "anaconda-cloud": {},
  "kernelspec": {
   "display_name": "Python [default]",
   "language": "python",
   "name": "python3"
  },
  "language_info": {
   "codemirror_mode": {
    "name": "ipython",
    "version": 3
   },
   "file_extension": ".py",
   "mimetype": "text/x-python",
   "name": "python",
   "nbconvert_exporter": "python",
   "pygments_lexer": "ipython3",
   "version": "3.5.2"
  }
 },
 "nbformat": 4,
 "nbformat_minor": 0
}
